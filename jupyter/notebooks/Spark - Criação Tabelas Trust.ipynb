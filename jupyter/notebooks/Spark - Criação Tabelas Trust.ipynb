{
 "cells": [
  {
   "cell_type": "markdown",
   "metadata": {
    "application/vnd.databricks.v1+cell": {
     "cellMetadata": {},
     "inputWidgets": {},
     "nuid": "22502b93-f826-4065-aad4-e358bbc65569",
     "showTitle": true,
     "title": "Temas"
    },
    "tags": []
   },
   "source": [
    "# Criação das Tabelas Trust"
   ]
  },
  {
   "cell_type": "markdown",
   "metadata": {
    "tags": []
   },
   "source": [
    "### Configurações Iniciais"
   ]
  },
  {
   "cell_type": "code",
   "execution_count": 2,
   "metadata": {},
   "outputs": [
    {
     "data": {
      "text/html": [
       "<style>pre { white-space: pre !important; }</style>"
      ],
      "text/plain": [
       "<IPython.core.display.HTML object>"
      ]
     },
     "metadata": {},
     "output_type": "display_data"
    }
   ],
   "source": [
    "from pyspark.sql.types import *\n",
    "import pyspark.sql.functions as fn\n",
    "from pyspark.sql import SparkSession\n",
    "from IPython.core.display import HTML\n",
    "\n",
    "display(HTML(\"<style>pre { white-space: pre !important; }</style>\"))\n",
    "\n",
    "# Define a sessão do Spark com os jars necessários para conexão com o MINIO\n",
    "spark = (SparkSession.builder\n",
    "         .config(\"spark.jars\",\"\"\"/home/jovyan/jars/aws-java-sdk-core-1.11.534.jar,\n",
    "                                 /home/jovyan/jars/aws-java-sdk-dynamodb-1.11.534.jar,\n",
    "                                 /home/jovyan/jars/aws-java-sdk-s3-1.11.534.jar,\n",
    "                                 /home/jovyan/jars/hadoop-aws-3.2.2.jar\"\"\")\n",
    "         .config(\"spark.jars.packages\", \"io.delta:delta-core_2.12:2.0.0\")\n",
    "         .config(\"spark.sql.extensions\", \"io.delta.sql.DeltaSparkSessionExtension\")\n",
    "         .config(\"spark.sql.catalog.spark_catalog\", \"org.apache.spark.sql.delta.catalog.DeltaCatalog\")\n",
    "         .config(\"spark.hadoop.fs.s3a.endpoint\", \"http://minio:9000\")\n",
    "         .config(\"spark.hadoop.fs.s3a.access.key\", \"aulafia\")\n",
    "         .config(\"spark.hadoop.fs.s3a.secret.key\", \"aulafia@123\")\n",
    "         .config(\"spark.hadoop.fs.s3a.path.style.access\", True)\n",
    "         .config(\"spark.hadoop.fs.s3a.impl\", \"org.apache.hadoop.fs.s3a.S3AFileSystem\")\n",
    "         .config(\"spark.hadoop.fs.s3a.aws.credentials.provider\", \"org.apache.hadoop.fs.s3a.SimpleAWSCredentialsProvider\")\n",
    "         .getOrCreate()\n",
    "        )\n",
    "\n",
    "from delta.tables import DeltaTable"
   ]
  },
  {
   "cell_type": "markdown",
   "metadata": {
    "tags": [],
    "toc-hr-collapsed": true
   },
   "source": [
    "## Games by Platform"
   ]
  },
  {
   "cell_type": "markdown",
   "metadata": {
    "tags": []
   },
   "source": [
    "### Leitura das bases"
   ]
  },
  {
   "cell_type": "code",
   "execution_count": 61,
   "metadata": {},
   "outputs": [],
   "source": [
    "path_games = 's3a://context/igdb/games/delta/'\n",
    "path_platforms = 's3a://context/igdb/platforms/delta/'\n",
    "\n",
    "dfIGDB_Games = DeltaTable.forPath(spark, path_games).toDF()\n",
    "dfIGDB_Platforms = DeltaTable.forPath(spark, path_platforms).toDF()"
   ]
  },
  {
   "cell_type": "markdown",
   "metadata": {
    "tags": []
   },
   "source": [
    "### Explode das Plataformas"
   ]
  },
  {
   "cell_type": "code",
   "execution_count": 69,
   "metadata": {},
   "outputs": [
    {
     "name": "stdout",
     "output_type": "stream",
     "text": [
      "+-------+-------------------------------------+-----------+\n",
      "|Game_id|Game_Name                            |Platform_id|\n",
      "+-------+-------------------------------------+-----------+\n",
      "|1      |Thief II: The Metal Age              |6          |\n",
      "|5      |Baldur's Gate                        |3          |\n",
      "|5      |Baldur's Gate                        |6          |\n",
      "|5      |Baldur's Gate                        |14         |\n",
      "|5      |Baldur's Gate                        |39         |\n",
      "|6      |Baldur's Gate II: Shadows of Amn     |3          |\n",
      "|6      |Baldur's Gate II: Shadows of Amn     |6          |\n",
      "|6      |Baldur's Gate II: Shadows of Amn     |14         |\n",
      "|7      |Jagged Alliance                      |13         |\n",
      "|7      |Jagged Alliance                      |20         |\n",
      "|9      |Jagged Alliance 2                    |3          |\n",
      "|9      |Jagged Alliance 2                    |6          |\n",
      "|9      |Jagged Alliance 2                    |16         |\n",
      "|17     |Fallout Tactics: Brotherhood of Steel|6          |\n",
      "|17     |Fallout Tactics: Brotherhood of Steel|14         |\n",
      "|19     |Max Payne 2: The Fall of Max Payne   |6          |\n",
      "|19     |Max Payne 2: The Fall of Max Payne   |8          |\n",
      "|19     |Max Payne 2: The Fall of Max Payne   |9          |\n",
      "|19     |Max Payne 2: The Fall of Max Payne   |11         |\n",
      "|19     |Max Payne 2: The Fall of Max Payne   |12         |\n",
      "+-------+-------------------------------------+-----------+\n",
      "only showing top 20 rows\n",
      "\n"
     ]
    }
   ],
   "source": [
    "# Exibe o DataFrame resultante\n",
    "dfExploded = (dfIGDB_Games\n",
    " .select(\n",
    "     fn.col(\"id\").alias(\"Game_id\"),\n",
    "     fn.col(\"name\").alias(\"Game_Name\"),\n",
    "     fn.explode_outer(\"platforms\").alias(\"Platform_id\"))\n",
    ")\n",
    "\n",
    "dfExploded.show(truncate=False)"
   ]
  },
  {
   "cell_type": "code",
   "execution_count": 70,
   "metadata": {},
   "outputs": [
    {
     "data": {
      "text/plain": [
       "257084"
      ]
     },
     "execution_count": 70,
     "metadata": {},
     "output_type": "execute_result"
    }
   ],
   "source": [
    "dfExploded.select(\"game_id\").distinct().count()"
   ]
  },
  {
   "cell_type": "markdown",
   "metadata": {},
   "source": [
    "### Tabela Final (Trust)"
   ]
  },
  {
   "cell_type": "code",
   "execution_count": 71,
   "metadata": {},
   "outputs": [
    {
     "name": "stdout",
     "output_type": "stream",
     "text": [
      "+-------+--------------------+-----------------+---------------+-------------------+-----------+--------------------+-------------------+------------+\n",
      "|game_id|           game_name|platform_category|platform_family|platform_generation|platform_id|       platform_name|       release_date|release_year|\n",
      "+-------+--------------------+-----------------+---------------+-------------------+-----------+--------------------+-------------------+------------+\n",
      "|      1|Thief II: The Met...| operating_system| (Não Definida)|     (Não Definida)|          6|PC (Microsoft Win...|2000-03-21 00:00:00|        2000|\n",
      "|      5|       Baldur's Gate| operating_system|          Linux|     (Não Definida)|          3|               Linux|2015-10-14 00:00:00|        2015|\n",
      "|      5|       Baldur's Gate| operating_system| (Não Definida)|     (Não Definida)|          6|PC (Microsoft Win...|1998-12-21 00:00:00|        1998|\n",
      "|      5|       Baldur's Gate| operating_system| (Não Definida)|     (Não Definida)|         14|                 Mac|2015-10-14 00:00:00|        2015|\n",
      "|      5|       Baldur's Gate| operating_system| (Não Definida)|     (Não Definida)|         39|                 iOS|2012-11-30 00:00:00|        2012|\n",
      "|      6|Baldur's Gate II:...| operating_system|          Linux|     (Não Definida)|          3|               Linux|2014-10-14 00:00:00|        2014|\n",
      "|      6|Baldur's Gate II:...| operating_system| (Não Definida)|     (Não Definida)|          6|PC (Microsoft Win...|2000-09-21 00:00:00|        2000|\n",
      "|      6|Baldur's Gate II:...| operating_system| (Não Definida)|     (Não Definida)|         14|                 Mac|2001-09-01 00:00:00|        2001|\n",
      "|      7|     Jagged Alliance| operating_system| (Não Definida)|     (Não Definida)|         13|                 DOS|1994-06-02 00:00:00|        1994|\n",
      "|      7|     Jagged Alliance| portable_console|       Nintendo|                  7|         20|         Nintendo DS|               null|        null|\n",
      "|      9|   Jagged Alliance 2| operating_system|          Linux|     (Não Definida)|          3|               Linux|1999-07-23 00:00:00|        1999|\n",
      "|      9|   Jagged Alliance 2| operating_system| (Não Definida)|     (Não Definida)|          6|PC (Microsoft Win...|1999-07-23 00:00:00|        1999|\n",
      "|      9|   Jagged Alliance 2|         computer| (Não Definida)|     (Não Definida)|         16|               Amiga|1999-07-23 00:00:00|        1999|\n",
      "|     17|Fallout Tactics: ...| operating_system| (Não Definida)|     (Não Definida)|          6|PC (Microsoft Win...|2001-03-15 00:00:00|        2001|\n",
      "|     17|Fallout Tactics: ...| operating_system| (Não Definida)|     (Não Definida)|         14|                 Mac|2013-12-31 00:00:00|        2013|\n",
      "|     19|Max Payne 2: The ...| operating_system| (Não Definida)|     (Não Definida)|          6|PC (Microsoft Win...|2003-10-14 00:00:00|        2003|\n",
      "|     19|Max Payne 2: The ...|          console|    PlayStation|                  6|          8|       PlayStation 2|2003-12-02 00:00:00|        2003|\n",
      "|     19|Max Payne 2: The ...|          console|    PlayStation|                  7|          9|       PlayStation 3|2012-05-01 00:00:00|        2012|\n",
      "|     19|Max Payne 2: The ...|          console|           Xbox|                  6|         11|                Xbox|2003-11-25 00:00:00|        2003|\n",
      "|     19|Max Payne 2: The ...|          console|           Xbox|                  7|         12|            Xbox 360|2009-04-27 00:00:00|        2009|\n",
      "+-------+--------------------+-----------------+---------------+-------------------+-----------+--------------------+-------------------+------------+\n",
      "only showing top 20 rows\n",
      "\n"
     ]
    }
   ],
   "source": [
    "path_gbp = 's3a://trust/games_by_platform/delta/'\n",
    "\n",
    "df_GBP = DeltaTable.forPath(spark, path_gbp).toDF()\n",
    "df_GBP.show()"
   ]
  },
  {
   "cell_type": "code",
   "execution_count": 72,
   "metadata": {},
   "outputs": [
    {
     "name": "stdout",
     "output_type": "stream",
     "text": [
      "O número total de jogos é: 324364\n"
     ]
    }
   ],
   "source": [
    "total_games = df_GBP.select(fn.count(\"game_id\").alias(\"total_games\")).collect()[0][\"total_games\"]\n",
    "print(f\"O número total de jogos é: {total_games}\")"
   ]
  },
  {
   "cell_type": "code",
   "execution_count": 73,
   "metadata": {},
   "outputs": [
    {
     "name": "stdout",
     "output_type": "stream",
     "text": [
      "O número de game_id distintos é: 220943\n"
     ]
    }
   ],
   "source": [
    "# Contar o número de game_id distintos na tabela df_games_by_platform\n",
    "distinct_game_ids = df_GBP.select(fn.countDistinct(\"game_id\").alias(\"distinct_game_ids\")).collect()[0][\"distinct_game_ids\"]\n",
    "\n",
    "# Mostrar o número de game_id distintos\n",
    "print(f\"O número de game_id distintos é: {distinct_game_ids}\")"
   ]
  },
  {
   "cell_type": "code",
   "execution_count": 67,
   "metadata": {},
   "outputs": [
    {
     "data": {
      "text/plain": [
       "173019"
      ]
     },
     "execution_count": 67,
     "metadata": {},
     "output_type": "execute_result"
    }
   ],
   "source": [
    "df_GBP.select(\"game_id\").distinct().count()"
   ]
  },
  {
   "cell_type": "code",
   "execution_count": 65,
   "metadata": {},
   "outputs": [
    {
     "data": {
      "text/plain": [
       "257084"
      ]
     },
     "execution_count": 65,
     "metadata": {},
     "output_type": "execute_result"
    }
   ],
   "source": [
    "dfIGDB_Games.select(\"id\").distinct().count()"
   ]
  },
  {
   "cell_type": "code",
   "execution_count": 7,
   "metadata": {},
   "outputs": [
    {
     "name": "stdout",
     "output_type": "stream",
     "text": [
      "+--------+-------------------+-------------------+------+------------+------+----+-----------+--------------------+------+------------+-------------------+----+\n",
      "|category|         created_at|               date|  game|       human|    id|   m|platform_id|       platform_name|region|      status|         updated_at|   y|\n",
      "+--------+-------------------+-------------------+------+------------+------+----+-----------+--------------------+------+------------+-------------------+----+\n",
      "|       0|2023-09-18 19:40:41|2013-06-11 00:00:00| 52220|Jun 11, 2013|517124|   6|         46|    PlayStation Vita|     2|        null|2023-09-18 20:45:33|2013|\n",
      "|       0|2023-09-18 19:51:23|2002-08-29 00:00:00|    39|Aug 29, 2002|517125|   8|          6|PC (Microsoft Win...|     2|        null|2023-09-18 20:31:03|2002|\n",
      "|       0|2023-09-18 19:51:23|2004-02-04 00:00:00|    39|Feb 04, 2004|517127|   2|          8|       PlayStation 2|     2|        null|2023-09-18 20:31:03|2004|\n",
      "|       0|2023-09-18 19:51:23|2004-03-12 00:00:00|    39|Mar 12, 2004|517129|   3|         11|                Xbox|     2|        null|2023-09-18 20:31:03|2004|\n",
      "|       7|2023-09-18 19:59:17|               null|265700|         TBD|517131|null|          6|PC (Microsoft Win...|     8|Full Release|2023-09-18 20:27:15|null|\n",
      "|       0|2023-09-18 20:11:53|2016-05-27 00:00:00|130586|May 27, 2016|517132|   5|          6|PC (Microsoft Win...|     8|        null|2023-09-19 00:11:04|2016|\n",
      "|       0|2023-09-18 20:16:28|2022-10-20 00:00:00|227393|Oct 20, 2022|517133|  10|        169|     Xbox Series X|S|     8|        null|2023-09-18 20:17:02|2022|\n",
      "|       0|2023-09-18 20:16:52|2022-10-20 00:00:00|227393|Oct 20, 2022|517134|  10|         48|       PlayStation 4|     8|        null|2023-09-18 20:17:02|2022|\n",
      "|       0|2023-09-18 20:16:52|2022-10-20 00:00:00|227393|Oct 20, 2022|517135|  10|         49|            Xbox One|     8|        null|2023-09-18 20:17:02|2022|\n",
      "|       0|2023-09-18 20:22:38|2023-08-05 00:00:00|267193|Aug 05, 2023|517136|   8|          6|PC (Microsoft Win...|     1|Full Release|2023-09-19 00:11:54|2023|\n",
      "|       0|2023-09-18 20:30:54|2002-08-30 00:00:00|    39|Aug 30, 2002|517137|   8|          6|PC (Microsoft Win...|     1|        null|2023-09-18 20:31:03|2002|\n",
      "|       0|2023-09-18 20:30:54|2004-01-28 00:00:00|    39|Jan 28, 2004|517138|   1|          8|       PlayStation 2|     1|        null|2023-09-18 20:31:03|2004|\n",
      "|       0|2023-09-18 20:30:54|2004-03-08 00:00:00|    39|Mar 08, 2004|517139|   3|         11|                Xbox|     2|        null|2023-09-18 20:31:03|2004|\n",
      "|       0|2023-09-18 20:30:54|2004-04-08 00:00:00|    39|Apr 08, 2004|517140|   4|         11|                Xbox|     1|        null|2023-09-18 20:31:03|2004|\n",
      "|       0|2023-09-18 21:01:29|2023-09-08 00:00:00|263727|Sep 08, 2023|517141|   9|          6|PC (Microsoft Win...|     8|Full Release|2023-09-18 23:58:37|2023|\n",
      "|       0|2023-09-18 21:04:40|2003-11-29 00:00:00| 71655|Nov 29, 2003|517142|  11|          6|PC (Microsoft Win...|     8|        null|2023-09-19 00:13:01|2003|\n",
      "|       7|2023-09-18 21:07:52|               null|265958|         TBD|517143|null|          6|PC (Microsoft Win...|     8|        null|2023-09-18 23:58:50|null|\n",
      "|       7|2023-09-18 21:07:52|               null|265958|         TBD|517144|null|         14|                 Mac|     8|        null|2023-09-18 23:58:50|null|\n",
      "|       7|2023-09-18 21:07:52|               null|265958|         TBD|517145|null|          3|               Linux|     8|        null|2023-09-18 23:58:50|null|\n",
      "|       0|2023-09-18 21:59:03|2023-05-04 00:00:00|265884|May 04, 2023|517146|   5|          6|PC (Microsoft Win...|     8|Full Release|2023-09-18 23:59:02|2023|\n",
      "+--------+-------------------+-------------------+------+------------+------+----+-----------+--------------------+------+------------+-------------------+----+\n",
      "only showing top 20 rows\n",
      "\n"
     ]
    }
   ],
   "source": [
    "path_releaseDates = 's3a://context/igdb/release_dates/delta/'\n",
    "\n",
    "dfIGDB_rDates = DeltaTable.forPath(spark, path_releaseDates).toDF()\n",
    "dfIGDB_rDates.show()"
   ]
  },
  {
   "cell_type": "markdown",
   "metadata": {},
   "source": [
    "### Enriquecendo com dados de lançamento"
   ]
  },
  {
   "cell_type": "code",
   "execution_count": 21,
   "metadata": {},
   "outputs": [
    {
     "name": "stdout",
     "output_type": "stream",
     "text": [
      "+--------+-------------------+-------------------+----+------------+------+---+-----------+--------------------+------+------+-------------------+----+----------------+\n",
      "|category|         created_at|               date|game|       human|    id|  m|platform_id|       platform_name|region|status|         updated_at|   y|min_release_year|\n",
      "+--------+-------------------+-------------------+----+------------+------+---+-----------+--------------------+------+------+-------------------+----+----------------+\n",
      "|       0|2015-01-11 11:24:23|1998-11-30 00:00:00|   2|Nov 30, 1998| 25214| 11|          6|PC (Microsoft Win...|     2|  null|2015-01-11 11:49:24|1998|            1998|\n",
      "|       2|2015-01-11 11:24:23|1998-12-31 00:00:00|   2|        1998| 25215| 12|          6|PC (Microsoft Win...|     1|  null|2015-01-11 11:49:24|1998|            1998|\n",
      "|       0|2018-01-19 16:43:51|2014-02-25 00:00:00|   4|Feb 25, 2014|136391|  2|         49|            Xbox One|     2|  null|2018-01-20 17:42:48|2014|            2014|\n",
      "|       0|2014-01-05 01:35:05|2014-02-25 00:00:00|   4|Feb 25, 2014|  7643|  2|         49|            Xbox One|     8|  null|2014-01-05 01:35:28|2014|            2014|\n",
      "|       0|2017-10-27 04:36:19|1998-12-21 00:00:00|   5|Dec 21, 1998|124722| 12|          6|PC (Microsoft Win...|     2|  null|2017-10-27 06:59:39|1998|            1998|\n",
      "|       1|2017-10-27 04:43:38|2001-09-01 00:00:00|   6|    Sep 2001|124725|  9|         14|                 Mac|     2|  null|2017-10-27 06:59:34|2001|            2001|\n",
      "|       0|2011-04-11 14:15:37|1999-07-23 00:00:00|   9|Jul 23, 1999|   516|  7|          3|               Linux|     8|  null|2012-06-11 14:12:13|1999|            1999|\n",
      "|       0|2022-09-18 07:28:40|2007-02-27 00:00:00|  10|Feb 27, 2007|390555|  2|          6|PC (Microsoft Win...|     2|  null|2022-09-18 12:32:59|2007|            2007|\n",
      "|       0|2022-11-01 02:21:31|2007-02-27 00:00:00|  10|Feb 27, 2007|412088|  2|          6|PC (Microsoft Win...|     8|  null|2022-11-01 15:06:35|2007|            2007|\n",
      "|       0|2022-09-18 07:28:40|2008-08-18 00:00:00|  10|Aug 18, 2008|390556|  8|         14|                 Mac|     2|  null|2022-09-18 12:32:59|2008|            2008|\n",
      "|       0|2023-02-26 19:57:14|2016-10-06 00:00:00|  10|Oct 06, 2016|455870| 10|         14|                 Mac|     1|  null|2023-02-27 01:11:30|2016|            2008|\n",
      "|       0|2019-12-27 12:22:14|2016-11-15 00:00:00|  10|Nov 15, 2016|182661| 11|         34|             Android|     8|  null|2019-12-27 12:34:03|2016|            2016|\n",
      "|       0|2022-04-12 08:02:10|2016-10-05 00:00:00|  10|Oct 05, 2016|352792| 10|         39|                 iOS|     8|  null|2022-04-12 08:07:15|2016|            2016|\n",
      "|       0|2014-11-01 08:54:20|2004-11-16 00:00:00|  11|Nov 16, 2004| 21545| 11|          6|PC (Microsoft Win...|     2|  null|2014-11-01 12:31:09|2004|            2004|\n",
      "|       0|2014-11-01 08:54:20|2004-11-19 00:00:00|  11|Nov 19, 2004| 21546| 11|          6|PC (Microsoft Win...|     1|  null|2014-11-01 12:31:09|2004|            2004|\n",
      "|       0|2014-11-01 08:58:52|2000-06-07 00:00:00|  12|Jun 07, 2000| 21548|  6|         14|                 Mac|     8|  null|2014-11-01 12:31:10|2000|            2000|\n",
      "|       0|2014-08-15 19:20:00|2001-12-12 00:00:00|  18|Dec 12, 2001| 19934| 12|         11|                Xbox|     2|  null|2014-08-15 19:20:46|2001|            2001|\n",
      "|       0|2014-08-15 19:20:00|2002-03-14 00:00:00|  18|Mar 14, 2002| 19935|  3|         11|                Xbox|     1|  null|2014-08-15 19:20:46|2002|            2001|\n",
      "|       0|2014-08-15 19:56:03|2003-12-02 00:00:00|  19|Dec 02, 2003| 19945| 12|          8|       PlayStation 2|     2|  null|2014-08-15 19:59:01|2003|            2003|\n",
      "|       0|2014-08-15 19:56:03|2003-12-05 00:00:00|  19|Dec 05, 2003| 19946| 12|          8|       PlayStation 2|     1|  null|2014-08-15 19:59:01|2003|            2003|\n",
      "+--------+-------------------+-------------------+----+------------+------+---+-----------+--------------------+------+------+-------------------+----+----------------+\n",
      "only showing top 20 rows\n",
      "\n"
     ]
    }
   ],
   "source": [
    "from pyspark.sql.window import Window\n",
    "\n",
    "# Identificar o menor ano de lançamento para cada combinação de game_id e platform_id\n",
    "window_spec = Window().partitionBy(\"game\", \"platform_id\").orderBy(fn.col(\"y\"))\n",
    "min_year_df = dfIGDB_rDates.withColumn(\"min_release_year\", fn.min(\"y\").over(window_spec))\n",
    "\n",
    "min_year_df.show()"
   ]
  },
  {
   "cell_type": "code",
   "execution_count": 38,
   "metadata": {},
   "outputs": [
    {
     "name": "stdout",
     "output_type": "stream",
     "text": [
      "+-------+--------------------+-----------+--------------------+------------+\n",
      "|game_id|           game_name|platform_id|       platform_name|release_year|\n",
      "+-------+--------------------+-----------+--------------------+------------+\n",
      "|      1|Thief II: The Met...|          6|PC (Microsoft Win...|        2000|\n",
      "|      2|Thief: The Dark P...|          6|PC (Microsoft Win...|        1998|\n",
      "|      3|Thief: Deadly Sha...|          6|PC (Microsoft Win...|        2004|\n",
      "|      3|Thief: Deadly Sha...|         11|                Xbox|        2004|\n",
      "|      4|               Thief|         49|            Xbox One|        2014|\n",
      "|      4|               Thief|          6|PC (Microsoft Win...|        2014|\n",
      "|      4|               Thief|         12|            Xbox 360|        2014|\n",
      "|      4|               Thief|          9|       PlayStation 3|        2014|\n",
      "|      4|               Thief|         48|       PlayStation 4|        2014|\n",
      "|      4|               Thief|         14|                 Mac|        2014|\n",
      "|      5|       Baldur's Gate|         39|                 iOS|        2012|\n",
      "|      5|       Baldur's Gate|          6|PC (Microsoft Win...|        1998|\n",
      "|      5|       Baldur's Gate|         14|                 Mac|        2015|\n",
      "|      5|       Baldur's Gate|          3|               Linux|        2015|\n",
      "|      6|Baldur's Gate II:...|          3|               Linux|        2014|\n",
      "|      6|Baldur's Gate II:...|          6|PC (Microsoft Win...|        2000|\n",
      "|      6|Baldur's Gate II:...|         14|                 Mac|        2001|\n",
      "|      7|     Jagged Alliance|         13|                 DOS|        1994|\n",
      "|      7|     Jagged Alliance|         20|         Nintendo DS|        null|\n",
      "|      8|Jagged Alliance: ...|         13|                 DOS|        1995|\n",
      "+-------+--------------------+-----------+--------------------+------------+\n",
      "only showing top 20 rows\n",
      "\n"
     ]
    }
   ],
   "source": [
    "# Juntar os DataFrames para enriquecer a tabela original\n",
    "df = (\n",
    "    df_GBP\n",
    "    .join(\n",
    "        min_year_df,\n",
    "        (df_GBP.game_id == min_year_df.game)\n",
    "        & (df_GBP.platform_id == min_year_df.platform_id),\n",
    "        \"left_outer\"\n",
    "    )\n",
    "    .select(\"game_id\", \"game_name\", df_GBP.platform_id, df_GBP.platform_name, fn.col(\"min_release_year\").alias(\"release_year\")) \n",
    "    .orderBy(\"game_id\")\n",
    ")\n",
    "\n",
    "df = (\n",
    "    df\n",
    "    .withColumn(\"row_number\", fn.row_number().over(Window.partitionBy(\"game_id\", \"platform_id\").orderBy(\"release_year\")))\n",
    "    .filter(fn.col(\"row_number\") == 1)\n",
    "    .drop(\"row_number\")\n",
    "    .orderBy(\"game_id\")\n",
    ")\n",
    "\n",
    "df.show()"
   ]
  },
  {
   "cell_type": "code",
   "execution_count": 48,
   "metadata": {},
   "outputs": [
    {
     "name": "stdout",
     "output_type": "stream",
     "text": [
      "+-------+-----------+------------+-------------------+\n",
      "|game_id|platform_id|release_year|       release_date|\n",
      "+-------+-----------+------------+-------------------+\n",
      "|      1|          6|        2000|2000-03-21 00:00:00|\n",
      "|      2|          6|        1998|1998-11-30 00:00:00|\n",
      "|      3|          6|        2004|2004-05-25 00:00:00|\n",
      "|      3|         11|        2004|2004-05-25 00:00:00|\n",
      "|      4|         49|        2014|2014-02-25 00:00:00|\n",
      "|      4|         48|        2014|2014-02-25 00:00:00|\n",
      "|      4|          9|        2014|2014-02-25 00:00:00|\n",
      "|      4|          6|        2014|2014-02-27 00:00:00|\n",
      "|      4|         14|        2014|2014-02-27 00:00:00|\n",
      "|      4|         12|        2014|2014-02-25 00:00:00|\n",
      "|      5|          6|        1998|1998-12-21 00:00:00|\n",
      "|      5|          3|        2015|2015-10-14 00:00:00|\n",
      "|      5|         14|        2015|2015-10-14 00:00:00|\n",
      "|      5|         39|        2012|2012-11-30 00:00:00|\n",
      "|      6|          6|        2000|2000-09-21 00:00:00|\n",
      "|      6|          3|        2014|2014-10-14 00:00:00|\n",
      "|      6|         14|        2001|2001-09-01 00:00:00|\n",
      "|      7|         13|        1994|1994-06-02 00:00:00|\n",
      "|      8|         13|        1995|1995-12-31 00:00:00|\n",
      "|      9|          6|        1999|1999-07-23 00:00:00|\n",
      "+-------+-----------+------------+-------------------+\n",
      "only showing top 20 rows\n",
      "\n"
     ]
    }
   ],
   "source": [
    "path_releaseDates = 's3a://context/igdb/release_dates/delta/'\n",
    "\n",
    "df_release_dates = DeltaTable.forPath(spark, path_releaseDates).toDF()\n",
    "\n",
    "\n",
    "df_release_years = (\n",
    "        df_release_dates\n",
    "        .select(\n",
    "            fn.col(\"game\").alias(\"game_id\"),\n",
    "            fn.col(\"platform_id\"),\n",
    "            fn.col('region'),\n",
    "            fn.col('date'),\n",
    "            fn.col('y')\n",
    "        )\n",
    "        .groupBy(\"game_id\", \"platform_id\")\n",
    "        .agg(\n",
    "            fn.min(df_release_dates.y).alias('release_year'),\n",
    "            fn.min(df_release_dates.date).alias('release_date'),\n",
    "        )\n",
    "        .orderBy(\"game_id\")\n",
    "    )\n",
    "\n",
    "df_release_years.show()"
   ]
  },
  {
   "cell_type": "code",
   "execution_count": null,
   "metadata": {},
   "outputs": [],
   "source": []
  }
 ],
 "metadata": {
  "application/vnd.databricks.v1+notebook": {
   "dashboards": [],
   "language": "python",
   "notebookMetadata": {
    "mostRecentlyExecutedCommandWithImplicitDF": {
     "commandId": -1,
     "dataframes": [
      "_sqldf"
     ]
    },
    "pythonIndentUnit": 2
   },
   "notebookName": "Aula Spark Na Pratica - 01",
   "widgets": {}
  },
  "kernelspec": {
   "display_name": "Python 3 (ipykernel)",
   "language": "python",
   "name": "python3"
  },
  "language_info": {
   "codemirror_mode": {
    "name": "ipython",
    "version": 3
   },
   "file_extension": ".py",
   "mimetype": "text/x-python",
   "name": "python",
   "nbconvert_exporter": "python",
   "pygments_lexer": "ipython3",
   "version": "3.10.5"
  }
 },
 "nbformat": 4,
 "nbformat_minor": 4
}
