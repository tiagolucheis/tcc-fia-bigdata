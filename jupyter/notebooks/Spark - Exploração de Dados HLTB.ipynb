{
 "cells": [
  {
   "cell_type": "markdown",
   "metadata": {
    "application/vnd.databricks.v1+cell": {
     "cellMetadata": {},
     "inputWidgets": {},
     "nuid": "22502b93-f826-4065-aad4-e358bbc65569",
     "showTitle": true,
     "title": "Temas"
    },
    "tags": []
   },
   "source": [
    "# Exploração de Dados - HLTB"
   ]
  },
  {
   "cell_type": "markdown",
   "metadata": {
    "tags": []
   },
   "source": [
    "### Configurações Iniciais"
   ]
  },
  {
   "cell_type": "code",
   "execution_count": 1,
   "metadata": {},
   "outputs": [
    {
     "name": "stdout",
     "output_type": "stream",
     "text": [
      "WARNING: An illegal reflective access operation has occurred\n",
      "WARNING: Illegal reflective access by org.apache.spark.unsafe.Platform (file:/usr/local/spark-3.2.1-bin-hadoop3.2/jars/spark-unsafe_2.12-3.2.1.jar) to constructor java.nio.DirectByteBuffer(long,int)\n",
      "WARNING: Please consider reporting this to the maintainers of org.apache.spark.unsafe.Platform\n",
      "WARNING: Use --illegal-access=warn to enable warnings of further illegal reflective access operations\n",
      "WARNING: All illegal access operations will be denied in a future release\n",
      "Welcome to\n",
      "      ____              __\n",
      "     / __/__  ___ _____/ /__\n",
      "    _\\ \\/ _ \\/ _ `/ __/  '_/\n",
      "   /___/ .__/\\_,_/_/ /_/\\_\\   version 3.2.1\n",
      "      /_/\n",
      "                        \n",
      "Using Scala version 2.12.15, OpenJDK 64-Bit Server VM, 11.0.15\n",
      "Branch HEAD\n",
      "Compiled by user hgao on 2022-01-20T19:26:14Z\n",
      "Revision 4f25b3f71238a00508a356591553f2dfa89f8290\n",
      "Url https://github.com/apache/spark\n",
      "Type --help for more information.\n"
     ]
    }
   ],
   "source": [
    "!spark-submit --version"
   ]
  },
  {
   "cell_type": "code",
   "execution_count": 1,
   "metadata": {},
   "outputs": [
    {
     "data": {
      "text/html": [
       "<style>pre { white-space: pre !important; }</style>"
      ],
      "text/plain": [
       "<IPython.core.display.HTML object>"
      ]
     },
     "metadata": {},
     "output_type": "display_data"
    }
   ],
   "source": [
    "from pyspark.sql.types import *\n",
    "import pyspark.sql.functions as fn\n",
    "from pyspark.sql import SparkSession\n",
    "from IPython.core.display import HTML\n",
    "\n",
    "display(HTML(\"<style>pre { white-space: pre !important; }</style>\"))\n",
    "\n",
    "# Define a sessão do Spark com os jars necessários para conexão com o MINIO\n",
    "spark = (SparkSession.builder\n",
    "         .config(\"spark.jars\",\"\"\"/home/jovyan/jars/aws-java-sdk-core-1.11.534.jar,\n",
    "                                 /home/jovyan/jars/aws-java-sdk-dynamodb-1.11.534.jar,\n",
    "                                 /home/jovyan/jars/aws-java-sdk-s3-1.11.534.jar,\n",
    "                                 /home/jovyan/jars/hadoop-aws-3.2.2.jar\"\"\")\n",
    "         .config(\"spark.jars.packages\", \"io.delta:delta-core_2.12:2.0.0\")\n",
    "         .config(\"spark.sql.extensions\", \"io.delta.sql.DeltaSparkSessionExtension\")\n",
    "         .config(\"spark.sql.catalog.spark_catalog\", \"org.apache.spark.sql.delta.catalog.DeltaCatalog\")\n",
    "         .config(\"spark.hadoop.fs.s3a.endpoint\", \"http://minio:9000\")\n",
    "         .config(\"spark.hadoop.fs.s3a.access.key\", \"aulafia\")\n",
    "         .config(\"spark.hadoop.fs.s3a.secret.key\", \"aulafia@123\")\n",
    "         .config(\"spark.hadoop.fs.s3a.path.style.access\", True)\n",
    "         .config(\"spark.hadoop.fs.s3a.impl\", \"org.apache.hadoop.fs.s3a.S3AFileSystem\")\n",
    "         .config(\"spark.hadoop.fs.s3a.aws.credentials.provider\", \"org.apache.hadoop.fs.s3a.SimpleAWSCredentialsProvider\")\n",
    "         .getOrCreate()\n",
    "        )\n",
    "\n",
    "from delta.tables import DeltaTable"
   ]
  },
  {
   "cell_type": "code",
   "execution_count": 2,
   "metadata": {},
   "outputs": [],
   "source": [
    "# Nome do bucket\n",
    "bucket_name = \"raw\"\n",
    "\n",
    "# Define o nome da API de onde foram extraídos os dados via arquivo JSON\n",
    "api_name = 'hltb'\n",
    "\n",
    "# Define o path do bucket dos dados\n",
    "bucket_path = 's3a://' + bucket_name + '/' + api_name + '/'"
   ]
  },
  {
   "cell_type": "code",
   "execution_count": 3,
   "metadata": {},
   "outputs": [
    {
     "name": "stdout",
     "output_type": "stream",
     "text": [
      "+-------------------+----------+-----------+---------+----------+--------------+\n",
      "|          Exec_date| Exec_time|Loaded_date|Read_Rows|Table_Rows|Total_duration|\n",
      "+-------------------+----------+-----------+---------+----------+--------------+\n",
      "|2023-10-24 02:40:03|1698126003| 2023-10-23|    66712|     66717|      00:00:39|\n",
      "|2023-10-07 15:40:31|1696704031| 2023-10-07|    66563|     66567|      00:00:43|\n",
      "|2023-10-06 13:38:38|1696610318| 2023-10-06|    66566|     66566|      00:00:26|\n",
      "+-------------------+----------+-----------+---------+----------+--------------+\n",
      "\n"
     ]
    }
   ],
   "source": [
    "table_name = 'games'\n",
    "\n",
    "control_table_path = bucket_path + table_name + '/control_table/'\n",
    "\n",
    "df = spark.read.parquet(control_table_path)\n",
    "\n",
    "df.show()"
   ]
  },
  {
   "cell_type": "markdown",
   "metadata": {
    "tags": [],
    "toc-hr-collapsed": true
   },
   "source": [
    "## Games"
   ]
  },
  {
   "cell_type": "markdown",
   "metadata": {
    "tags": []
   },
   "source": [
    "### Leitura da base"
   ]
  },
  {
   "cell_type": "code",
   "execution_count": 5,
   "metadata": {},
   "outputs": [],
   "source": [
    "table_name = 'games'\n",
    "\n",
    "delta_table_path = bucket_path + table_name + '/delta/'\n",
    "\n",
    "dfHLTB_Games = DeltaTable.forPath(spark, delta_table_path).toDF()"
   ]
  },
  {
   "cell_type": "markdown",
   "metadata": {
    "tags": []
   },
   "source": [
    "### Conhecendo a Base"
   ]
  },
  {
   "cell_type": "code",
   "execution_count": 13,
   "metadata": {},
   "outputs": [
    {
     "name": "stdout",
     "output_type": "stream",
     "text": [
      "+--------+--------------+--------+--------------+-----------+----------------+-----------+-----------+------------+---------+---------------+---------+---------------+-------------+----------+-------------+-------------+------------+--------------+-------------------+-----------------------------------------+-------+---------------------------------------------+-------------------------------------+--------------+---------+---+-----------+-----------------+-----------+-----------------+----------------------------------------------------------+-------------------------------------------------------------------------------------+---------------+-------------+-------------+------------+\n",
      "|comp_100|comp_100_count|comp_all|comp_all_count|comp_lvl_co|comp_lvl_combine|comp_lvl_mp|comp_lvl_sp|comp_lvl_spd|comp_main|comp_main_count|comp_plus|comp_plus_count|count_backlog|count_comp|count_playing|count_retired|count_review|count_speedrun|extracted_datetime |game_alias                               |game_id|game_image                                   |game_name                            |game_name_date|game_type|id |invested_co|invested_co_count|invested_mp|invested_mp_count|profile_dev                                               |profile_platform                                                                     |profile_popular|profile_steam|release_world|review_score|\n",
      "+--------+--------------+--------+--------------+-----------+----------------+-----------+-----------+------------+---------+---------------+---------+---------------+-------------+----------+-------------+-------------+------------+--------------+-------------------+-----------------------------------------+-------+---------------------------------------------+-------------------------------------+--------------+---------+---+-----------+-----------------+-----------+-----------------+----------------------------------------------------------+-------------------------------------------------------------------------------------+---------------+-------------+-------------+------------+\n",
      "|130047  |25            |87158   |165           |0          |0               |0          |1          |1           |72848    |79             |96062    |61             |3870         |416       |25           |169          |119         |0             |2023-10-24 02:00:16|Thief 2: The Metal Age                   |10298  |Thief_II_-_The_Metal_Age_Coverart.png        |Thief II: The Metal Age              |0             |game     |1  |0          |0                |0          |0                |Looking Glass Studios                                     |PC                                                                                   |143            |211740       |2000         |87          |\n",
      "|100711  |4             |58852   |24            |0          |0               |0          |1          |1           |47016    |12             |71762    |8              |169          |69        |0            |10           |35          |0             |2023-10-24 02:00:16|Thief 1: TDP                             |10300  |256px-Thief_The_Dark_Project_boxcover.jpg    |Thief: The Dark Project              |0             |game     |2  |0          |0                |0          |0                |Looking Glass Studios                                     |PC                                                                                   |12             |0            |1998         |86          |\n",
      "|101171  |18            |73985   |144           |0          |0               |0          |1          |1           |59724    |58             |80690    |68             |4274         |465       |26           |260          |113         |0             |2023-10-24 02:00:16|Thief III, Thief 3                       |10299  |256px-Thief_Deadly_Shadows_boxart.jpg        |Thief: Deadly Shadows                |0             |game     |3  |0          |0                |0          |0                |Ion Storm                                                 |PC, Xbox                                                                             |148            |6980         |2004         |78          |\n",
      "|160334  |70            |65743   |718           |0          |0               |0          |1          |1           |39590    |328            |80993    |320            |6225         |1913      |59           |699          |520         |9             |2023-10-24 02:00:16|                                         |16232  |256px-Thief_2014_box_art.jpg                 |Thief                                |1             |game     |4  |0          |0                |0          |0                |Eidos Montreal                                            |PC, PlayStation 3, PlayStation 4, Xbox 360, Xbox One                                 |249            |239160       |2014         |65          |\n",
      "|376005  |25            |212322  |147           |1          |0               |1          |1          |1           |158232   |44             |212360   |78             |542          |340       |5            |36           |148         |0             |2023-10-24 02:00:16|                                         |808    |Baldurs_Gate_box.PNG                         |Baldur's Gate                        |0             |game     |5  |165600     |1                |0          |0                |BioWare                                                   |Mobile, PC                                                                           |19             |0            |1998         |86          |\n",
      "|509256  |30            |326203  |128           |1          |0               |1          |1          |1           |243721   |32             |315975   |66             |560          |304       |2            |31           |145         |1             |2023-10-24 02:00:16|                                         |810    |Baldurs_Gate_II_-_Shadows_of_Amn_Coverart.png|Baldur's Gate II: Shadows of Amn     |0             |game     |6  |342000     |1                |0          |0                |BioWare                                                   |PC                                                                                   |28             |0            |2000         |91          |\n",
      "|254756  |0             |128352  |12            |1          |0               |1          |1          |1           |103810   |6              |162623   |6              |90           |17        |0            |11           |10          |0             |2023-10-24 02:00:16|                                         |4791   |Jagged_Alliance_cover.jpg                    |Jagged Alliance                      |0             |game     |7  |0          |0                |0          |0                |Madlab Software, Cypronia (DSiWare)                       |PC                                                                                   |8              |0            |1994         |79          |\n",
      "|0       |0             |45480   |2             |1          |0               |1          |1          |1           |0        |0              |45480    |2              |120          |4         |0            |13           |2           |0             |2023-10-24 02:00:16|                                         |4796   |Jadg01.gif                                   |Jagged Alliance: Deadly Games        |0             |game     |8  |0          |0                |0          |0                |Sir-tech Software, Inc.                                   |PC                                                                                   |5              |0            |1995         |85          |\n",
      "|0       |0             |219600  |3             |0          |0               |0          |1          |1           |0        |0              |219600   |3              |88           |21        |1            |10           |10          |0             |2023-10-24 02:00:16|                                         |15740  |Jagged_Alliance_2_Coverart.png               |Jagged Alliance 2                    |0             |game     |9  |0          |0                |0          |0                |Sir-Tech Canada                                           |PC                                                                                   |16             |1620         |1999         |82          |\n",
      "|126134  |40            |86487   |189           |0          |0               |0          |1          |1           |55605    |29             |83123    |120            |2119         |595       |17           |142          |151         |0             |2023-10-24 02:00:16|                                         |4790   |JadeEmpireSpecialEdition.jpg                 |Jade Empire: Special Edition         |0             |game     |10 |0          |0                |0          |0                |LTI Gray Matter                                           |PC, Xbox                                                                             |94             |7110         |2007         |79          |\n",
      "|145146  |86            |104901  |545           |1          |0               |1          |1          |1           |82435    |107            |103419   |352            |3786         |1541      |25           |253          |457         |0             |2023-10-24 02:00:16|                                         |10890  |VampireTheMasqueradeBloodlinesCoverart.png   |Vampire: The Masquerade - Bloodlines |0             |game     |11 |0          |0                |0          |0                |Troika Games                                              |PC                                                                                   |171            |2600         |2004         |85          |\n",
      "|91972   |20            |77166   |75            |1          |0               |1          |1          |1           |64739    |31             |80367    |24             |375          |144       |3            |20           |48          |0             |2023-10-24 02:00:16|                                         |10891  |256px-VampireTMassqueradeRedemption_cover.jpg|Vampire: The Masquerade - Redemption |0             |game     |12 |0          |0                |0          |0                |Nihilistic Software                                       |PC                                                                                   |15             |559680       |2000         |73          |\n",
      "|117100  |92            |78676   |636           |0          |0               |0          |1          |1           |58016    |201            |82493    |343            |8107         |1994      |83           |749          |585         |5             |2023-10-24 02:00:16|Fallout: A Post Nuclear Role Playing Game|3338   |250px-Fallout.jpg                            |Fallout                              |0             |game     |13 |0          |0                |0          |0                |Interplay Entertainment                                   |PC                                                                                   |440            |38400        |1997         |82          |\n",
      "|301677  |56            |170396  |381           |1          |0               |1          |1          |1           |109353   |92             |172960   |233            |6146         |1194      |55           |365          |380         |2             |2023-10-24 02:00:16|                                         |3339   |250px-PC_Game_Fallout_2.jpg                  |Fallout 2                            |0             |game     |14 |0          |0                |0          |0                |Black Isle Studios                                        |PC                                                                                   |280            |38410        |1998         |86          |\n",
      "|416040  |223           |169629  |1405          |0          |0               |0          |1          |1           |80337    |517            |190081   |665            |3142         |3941      |45           |507          |1261        |11            |2023-10-24 02:00:16|                                         |3340   |Fallout_3_cover_art.PNG                      |Fallout 3                            |0             |game     |15 |0          |0                |0          |0                |Bethesda Game Studios                                     |PC, PlayStation 3, Xbox 360                                                          |188            |22309        |2008         |82          |\n",
      "|472667  |364           |205469  |2469          |0          |0               |0          |1          |1           |98530    |684            |215960   |1421           |14016        |8808      |177          |1426         |2012        |19            |2023-10-24 02:00:16|                                         |3351   |Fallout_New_Vegas.jpg                        |Fallout: New Vegas                   |0             |game     |16 |0          |0                |0          |0                |Obsidian Entertainment                                    |PC, PlayStation 3, Xbox 360                                                          |728            |22490        |2010         |87          |\n",
      "|177415  |17            |148588  |48            |0          |0               |1          |1          |1           |105667   |13             |157020   |18             |4518         |244       |44           |380          |62          |0             |2023-10-24 02:00:16|Fallout Tactics                          |3349   |256px-Fallout_Tactics_Box.jpg                |Fallout Tactics: Brotherhood of Steel|0             |game     |17 |0          |0                |0          |0                |Micro Forté                                               |PC                                                                                   |198            |38420        |2001         |64          |\n",
      "|41176   |103           |30826   |1340          |0          |0               |0          |1          |1           |29243    |1005           |33301    |232            |4157         |4660      |51           |329          |1208        |3             |2023-10-24 02:00:16|                                         |5736   |256px-Maxpaynebox.jpg                        |Max Payne                            |0             |game     |18 |0          |0                |0          |0                |Remedy Entertainment                                      |Game Boy Advance, Mobile, PC, PlayStation 2, PlayStation 4, Xbox                     |290            |12140        |2001         |82          |\n",
      "|34247   |79            |24114   |1056          |0          |0               |0          |1          |1           |22315    |804            |28420    |173            |3986         |3722      |45           |240          |972         |3             |2023-10-24 02:00:16|                                         |5738   |256px-Max_Payne_2.jpg                        |Max Payne 2: The Fall of Max Payne   |0             |game     |19 |0          |0                |0          |0                |Remedy Entertainment, Rockstar Vienna                     |PC, PlayStation 2, Xbox                                                              |247            |12150        |2003         |83          |\n",
      "|81460   |641           |51186   |6139          |0          |0               |0          |1          |1           |43579    |3144           |56239    |2354           |17947        |19282     |223          |2478         |4833        |11            |2023-10-24 02:00:16|BioShock: Remastered                     |1065   |Bioshockcoverfinalcropped.jpg                |BioShock                             |0             |game     |20 |49         |1                |0          |0                |Irrational Games, 2K Marin, 2K Australia, Digital Extremes|Mobile, Nintendo Switch, OnLive, PC, PlayStation 3, PlayStation 4, Xbox 360, Xbox One|1066           |7670         |2007         |85          |\n",
      "+--------+--------------+--------+--------------+-----------+----------------+-----------+-----------+------------+---------+---------------+---------+---------------+-------------+----------+-------------+-------------+------------+--------------+-------------------+-----------------------------------------+-------+---------------------------------------------+-------------------------------------+--------------+---------+---+-----------+-----------------+-----------+-----------------+----------------------------------------------------------+-------------------------------------------------------------------------------------+---------------+-------------+-------------+------------+\n",
      "only showing top 20 rows\n",
      "\n"
     ]
    }
   ],
   "source": [
    "# Exibe o DataFrame resultante\n",
    "dfHLTB_Games.show(20, False)"
   ]
  },
  {
   "cell_type": "code",
   "execution_count": 12,
   "metadata": {},
   "outputs": [
    {
     "name": "stdout",
     "output_type": "stream",
     "text": [
      "root\n",
      " |-- comp_100: long (nullable = true)\n",
      " |-- comp_100_count: long (nullable = true)\n",
      " |-- comp_all: long (nullable = true)\n",
      " |-- comp_all_count: long (nullable = true)\n",
      " |-- comp_lvl_co: long (nullable = true)\n",
      " |-- comp_lvl_combine: long (nullable = true)\n",
      " |-- comp_lvl_mp: long (nullable = true)\n",
      " |-- comp_lvl_sp: long (nullable = true)\n",
      " |-- comp_lvl_spd: long (nullable = true)\n",
      " |-- comp_main: long (nullable = true)\n",
      " |-- comp_main_count: long (nullable = true)\n",
      " |-- comp_plus: long (nullable = true)\n",
      " |-- comp_plus_count: long (nullable = true)\n",
      " |-- count_backlog: long (nullable = true)\n",
      " |-- count_comp: long (nullable = true)\n",
      " |-- count_playing: long (nullable = true)\n",
      " |-- count_retired: long (nullable = true)\n",
      " |-- count_review: long (nullable = true)\n",
      " |-- count_speedrun: long (nullable = true)\n",
      " |-- extracted_datetime: timestamp (nullable = true)\n",
      " |-- game_alias: string (nullable = true)\n",
      " |-- game_id: long (nullable = true)\n",
      " |-- game_image: string (nullable = true)\n",
      " |-- game_name: string (nullable = true)\n",
      " |-- game_name_date: long (nullable = true)\n",
      " |-- game_type: string (nullable = true)\n",
      " |-- id: long (nullable = true)\n",
      " |-- invested_co: long (nullable = true)\n",
      " |-- invested_co_count: long (nullable = true)\n",
      " |-- invested_mp: long (nullable = true)\n",
      " |-- invested_mp_count: long (nullable = true)\n",
      " |-- profile_dev: string (nullable = true)\n",
      " |-- profile_platform: string (nullable = true)\n",
      " |-- profile_popular: long (nullable = true)\n",
      " |-- profile_steam: long (nullable = true)\n",
      " |-- release_world: long (nullable = true)\n",
      " |-- review_score: long (nullable = true)\n",
      "\n"
     ]
    }
   ],
   "source": [
    "# Exibe o Schema do DataFrame\n",
    "dfHLTB_Games.printSchema()"
   ]
  },
  {
   "cell_type": "markdown",
   "metadata": {},
   "source": [
    "#### Todos os registros do Dataframe são únicos, considerando a chave ID"
   ]
  },
  {
   "cell_type": "code",
   "execution_count": 8,
   "metadata": {},
   "outputs": [
    {
     "data": {
      "text/plain": [
       "66717"
      ]
     },
     "execution_count": 8,
     "metadata": {},
     "output_type": "execute_result"
    }
   ],
   "source": [
    "dfHLTB_Games.count()"
   ]
  },
  {
   "cell_type": "code",
   "execution_count": 9,
   "metadata": {},
   "outputs": [
    {
     "data": {
      "text/plain": [
       "66717"
      ]
     },
     "execution_count": 9,
     "metadata": {},
     "output_type": "execute_result"
    }
   ],
   "source": [
    "dfHLTB_Games.select(\"id\").distinct().count()"
   ]
  },
  {
   "cell_type": "markdown",
   "metadata": {},
   "source": [
    "#### Describe dos campos numéricos"
   ]
  },
  {
   "cell_type": "code",
   "execution_count": 10,
   "metadata": {},
   "outputs": [
    {
     "name": "stdout",
     "output_type": "stream",
     "text": [
      "+-------+-----------------+-----------------+-----------------+------------------+------------------+-------------------+------------------+-------------------+-------------------+------------------+------------------+------------------+------------------+------------------+------------------+------------------+------------------+------------------+-------------------+--------------------+----------+------------------+--------------------+-----------------------+-------------------+---------+-----------------+------------------+------------------+-----------------+-------------------+-----------+----------------+------------------+-----------------+-----------------+------------------+\n",
      "|summary|         comp_100|   comp_100_count|         comp_all|    comp_all_count|       comp_lvl_co|   comp_lvl_combine|       comp_lvl_mp|        comp_lvl_sp|       comp_lvl_spd|         comp_main|   comp_main_count|         comp_plus|   comp_plus_count|     count_backlog|        count_comp|     count_playing|     count_retired|      count_review|     count_speedrun|  extracted_datetime|game_alias|           game_id|          game_image|              game_name|     game_name_date|game_type|               id|       invested_co| invested_co_count|      invested_mp|  invested_mp_count|profile_dev|profile_platform|   profile_popular|    profile_steam|    release_world|      review_score|\n",
      "+-------+-----------------+-----------------+-----------------+------------------+------------------+-------------------+------------------+-------------------+-------------------+------------------+------------------+------------------+------------------+------------------+------------------+------------------+------------------+------------------+-------------------+--------------------+----------+------------------+--------------------+-----------------------+-------------------+---------+-----------------+------------------+------------------+-----------------+-------------------+-----------+----------------+------------------+-----------------+-----------------+------------------+\n",
      "|  count|            66717|            66717|            66717|             66717|             66717|              66717|             66717|              66717|              66717|             66717|             66717|             66717|             66717|             66717|             66717|             66717|             66717|             66717|              66717|               66717|     66717|             66717|               66717|                  66717|              66717|    66717|            66717|             66717|             66717|            66717|              66717|      66717|           66717|             66717|            66717|            66717|             66717|\n",
      "|   mean|49810.67589969573|7.693871127298889|32739.34060284485|40.626601915553756|0.4925281412533537|0.04043946820150786|0.5240493427462266| 0.9788959335701546| 0.9427881949128408|16666.875533971852|18.798701980005095| 25238.86851926795|14.134028808249772|184.99538348546847|107.36404514591483| 3.007329466252979|21.512358169581965|34.248992011031675|0.19155537569135303|1.6981127094393783E9| 1552430.0|  52375.9167528516|                null|               Infinity|0.07294992280827975|     null|86224.98466657674| 9673.760121108564|0.3981593896608061|10618.09114618463|0.26093799181617877|   Infinity|            null|17.523135033050046|436784.9488286344|1934.088073504504|39.584663578997855|\n",
      "| stddev|452963.8205426039|51.28151116388869|252972.0654998479|257.63719301649314| 0.499947915004262|0.19698908407433255| 0.499425037089026|0.14373237095762587|0.23224862308907115| 74200.17237330113| 117.2242134821395|167331.02703923648|110.13648536753492| 740.6885451006045| 669.7844623711478|16.565111622783867|103.42412759499305|190.46799527433785|  2.450284871494717|  12308.835814888185|      null|37991.654481584126|                null|                    NaN|0.26005623477221307|     null|73839.76429067441|195702.33821323465|6.1224285338861195|232280.3842904005|  4.386889992089268|        NaN|            null| 62.14814906910676|577684.7095114551|383.7404406628398| 32.96355069796635|\n",
      "|    min|                0|                0|                0|                 0|                 0|                  0|                 0|                  0|                  0|                 0|                 0|                 0|                 0|                 0|                 0|                 0|                 0|                 0|                  0|          1696690935|          |                 1| 86450_Tank_Force...|             !4RC4N01D!|                  0|   compil|                1|                 0|                 0|                0|                  0|           |                |                 0|                0|                0|                 0|\n",
      "|    max|         38084770|             2341|         35818200|             10080|                 1|                  1|                 1|                  1|                  1|           7581010|              6195|          23400000|              5772|             19407|             29358|              1723|              4209|              5987|                196|          1698112816|여포키우기|            139506|     zzt_title_1.png|신기록 : A Compendiu...|                  1|   sports|           273011|          21502800|               671|         36000000|                274|     신인건|            ZX81|              3172|          2636390|             2025|               100|\n",
      "+-------+-----------------+-----------------+-----------------+------------------+------------------+-------------------+------------------+-------------------+-------------------+------------------+------------------+------------------+------------------+------------------+------------------+------------------+------------------+------------------+-------------------+--------------------+----------+------------------+--------------------+-----------------------+-------------------+---------+-----------------+------------------+------------------+-----------------+-------------------+-----------+----------------+------------------+-----------------+-----------------+------------------+\n",
      "\n"
     ]
    }
   ],
   "source": [
    "dfHLTB_Games.describe().show()"
   ]
  },
  {
   "cell_type": "markdown",
   "metadata": {
    "tags": []
   },
   "source": [
    "#### Converte os campos de data para Unix Timestamp"
   ]
  },
  {
   "cell_type": "code",
   "execution_count": 11,
   "metadata": {},
   "outputs": [],
   "source": [
    "dfHLTB_Games = (dfHLTB_Games\n",
    "                .withColumn(\"extracted_datetime\", fn.to_timestamp(fn.from_unixtime(\"extracted_datetime\")))\n",
    "                )"
   ]
  },
  {
   "cell_type": "markdown",
   "metadata": {},
   "source": [
    "#### Exploração"
   ]
  },
  {
   "cell_type": "code",
   "execution_count": 16,
   "metadata": {},
   "outputs": [
    {
     "name": "stdout",
     "output_type": "stream",
     "text": [
      "+--------------------------------+-------------------+\n",
      "|game_name                       |extracted_datetime |\n",
      "+--------------------------------+-------------------+\n",
      "|Thief II: The Metal Age         |2023-10-24 02:00:16|\n",
      "|Thief: The Dark Project         |2023-10-24 02:00:16|\n",
      "|Thief: Deadly Shadows           |2023-10-24 02:00:16|\n",
      "|Thief                           |2023-10-24 02:00:16|\n",
      "|Baldur's Gate                   |2023-10-24 02:00:16|\n",
      "|Baldur's Gate II: Shadows of Amn|2023-10-24 02:00:16|\n",
      "|Jagged Alliance                 |2023-10-24 02:00:16|\n",
      "|Jagged Alliance: Deadly Games   |2023-10-24 02:00:16|\n",
      "|Jagged Alliance 2               |2023-10-24 02:00:16|\n",
      "|Jade Empire: Special Edition    |2023-10-24 02:00:16|\n",
      "+--------------------------------+-------------------+\n",
      "only showing top 10 rows\n",
      "\n"
     ]
    }
   ],
   "source": [
    "# Games atualizados recentemente (considerando a última ingestão até a data da análise) – considera a data de extração\n",
    "(dfHLTB_Games\n",
    " .select(\"game_name\", \"extracted_datetime\")\n",
    " .orderBy(fn.col(\"extracted_datetime\").desc())\n",
    ").show(10, False)"
   ]
  },
  {
   "cell_type": "code",
   "execution_count": 18,
   "metadata": {},
   "outputs": [
    {
     "name": "stdout",
     "output_type": "stream",
     "text": [
      "+----+------------------------------------------+------------+\n",
      "|id  |game_name                                 |review_score|\n",
      "+----+------------------------------------------+------------+\n",
      "|2500|Nemesis: The Wizardry Adventure           |100         |\n",
      "|5158|Ski-Doo: Snowmobile Challenge             |100         |\n",
      "|2811|Cartoon Network Universe: FusionFall      |100         |\n",
      "|208 |Their Finest Hour: The Battle of Britain  |100         |\n",
      "|2885|Wizardry IV: The Return of Werdna         |100         |\n",
      "|1936|Beyond Good & Evil 2                      |100         |\n",
      "|3311|Barbie Horse Adventures: Wild Horse Rescue|100         |\n",
      "|4417|Operation Europe: Path to Victory 1939-45 |100         |\n",
      "|4268|Panzer General                            |100         |\n",
      "|728 |Grand Prix 2                              |100         |\n",
      "+----+------------------------------------------+------------+\n",
      "only showing top 10 rows\n",
      "\n"
     ]
    }
   ],
   "source": [
    "# Games mais bem avaliados\n",
    "(dfHLTB_Games\n",
    " .select(\"id\", \"game_name\", \"review_score\")\n",
    " .orderBy(fn.col(\"review_score\").desc())\n",
    ").show(10, False)"
   ]
  },
  {
   "cell_type": "code",
   "execution_count": null,
   "metadata": {},
   "outputs": [],
   "source": []
  }
 ],
 "metadata": {
  "application/vnd.databricks.v1+notebook": {
   "dashboards": [],
   "language": "python",
   "notebookMetadata": {
    "mostRecentlyExecutedCommandWithImplicitDF": {
     "commandId": -1,
     "dataframes": [
      "_sqldf"
     ]
    },
    "pythonIndentUnit": 2
   },
   "notebookName": "Aula Spark Na Pratica - 01",
   "widgets": {}
  },
  "kernelspec": {
   "display_name": "Python 3 (ipykernel)",
   "language": "python",
   "name": "python3"
  },
  "language_info": {
   "codemirror_mode": {
    "name": "ipython",
    "version": 3
   },
   "file_extension": ".py",
   "mimetype": "text/x-python",
   "name": "python",
   "nbconvert_exporter": "python",
   "pygments_lexer": "ipython3",
   "version": "3.10.5"
  }
 },
 "nbformat": 4,
 "nbformat_minor": 4
}
